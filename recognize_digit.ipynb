{
 "cells": [
  {
   "cell_type": "code",
   "execution_count": 24,
   "id": "b7ec0751",
   "metadata": {},
   "outputs": [],
   "source": [
    "import numpy as np\n",
    "import pandas as pd\n",
    "import os"
   ]
  },
  {
   "cell_type": "markdown",
   "id": "56ad23d4",
   "metadata": {},
   "source": [
    "# Brainstorm Ideas:\n",
    "\n",
    "784 inputs, 2 hidden layers, 0-9 as output"
   ]
  },
  {
   "cell_type": "code",
   "execution_count": 25,
   "id": "b008ffcd",
   "metadata": {},
   "outputs": [],
   "source": [
    "def sigmoid(x):\n",
    "  # Our activation function: f(x) = 1 / (1 + e^(-x))\n",
    "  return 1 / (1 + np.exp(-x))"
   ]
  },
  {
   "cell_type": "code",
   "execution_count": 26,
   "id": "70bf5872",
   "metadata": {},
   "outputs": [],
   "source": [
    "dataframe = pd.read_csv('./digit-recognizer/train.csv')\n",
    "PIXEL_COUNT = len(dataframe.columns) - 1\n",
    "SAMPLE_SIZE = len(dataframe)"
   ]
  },
  {
   "cell_type": "code",
   "execution_count": 27,
   "id": "dbbf2e97",
   "metadata": {},
   "outputs": [],
   "source": [
    "def deriv_sigmoid(x):\n",
    "    # Derivative of sigmoid: f'(x) = f(x) * (1 - f(x))\n",
    "    fx = sigmoid(x)\n",
    "    return fx * (1 - fx)"
   ]
  },
  {
   "cell_type": "code",
   "execution_count": 28,
   "id": "d4a6c634",
   "metadata": {},
   "outputs": [],
   "source": [
    "class Neuron:\n",
    "    def __init__(self, weights, bias, value=0):\n",
    "        self.weights = weights # weights type: numpy array\n",
    "        self.bias = bias # bias type: integer\n",
    "        self.value = value\n",
    "    \n",
    "    def weighted_output(self, inputs):\n",
    "        # feed forward algorithm\n",
    "        # inputs: original image input / weights\n",
    "        output_node = np.dot(inputs, self.weights) + self.bias\n",
    "        return sigmoid(output_node)  "
   ]
  },
  {
   "cell_type": "code",
   "execution_count": 39,
   "id": "42530051",
   "metadata": {},
   "outputs": [],
   "source": [
    "class NeuralNetwork:\n",
    "    def __init__(self, hidden_layers, input_layer):\n",
    "        # hidden_layer: list of number of nodes in the hidden layer\n",
    "        \n",
    "        self.network = [[]]\n",
    "        # initialize input layer (zeroth layer)\n",
    "        for i in range(PIXEL_COUNT):\n",
    "            weights = np.random.uniform(low=0.0, high=1.0, size=PIXEL_COUNT)\n",
    "            bias = np.random.normal()\n",
    "            neuron = Neuron(weights, bias, input_layer)\n",
    "            self.network[0].append(neuron)\n",
    "        \n",
    "        # initialize hidden layers\n",
    "        for layer in hidden_layers:\n",
    "            # append a list that contains all neurons in this hidden layer\n",
    "            self.network.append([])\n",
    "            for n in range(layer):\n",
    "                weights = np.random.uniform(low=0.0, high=1.0, size=PIXEL_COUNT)\n",
    "                bias = np.random.normal()\n",
    "                neuron = Neuron(weights, bias)\n",
    "                self.network[-1].append(neuron)\n",
    "                \n",
    "        # initialize output layer\n",
    "        self.network.append([])\n",
    "        for i in range(10):\n",
    "            weights = np.random.uniform(low=0.0, high=1.0, size=PIXEL_COUNT)\n",
    "            bias = np.random.normal()\n",
    "            neuron = Neuron(weights, bias)\n",
    "            self.network[-1].append(neuron)\n",
    "        \n",
    "        \n",
    "    def print_network(self):\n",
    "        print(len(self.network))"
   ]
  },
  {
   "cell_type": "code",
   "execution_count": 41,
   "id": "b49b0db8",
   "metadata": {},
   "outputs": [
    {
     "name": "stdout",
     "output_type": "stream",
     "text": [
      "4\n"
     ]
    }
   ],
   "source": [
    "digit_recognition_network = NeuralNetwork([28, 28], dataframe.iloc[1][1:])\n",
    "digit_recognition_network.print_network()"
   ]
  },
  {
   "cell_type": "code",
   "execution_count": null,
   "id": "355a7162",
   "metadata": {},
   "outputs": [],
   "source": []
  }
 ],
 "metadata": {
  "kernelspec": {
   "display_name": "Python 3 (ipykernel)",
   "language": "python",
   "name": "python3"
  },
  "language_info": {
   "codemirror_mode": {
    "name": "ipython",
    "version": 3
   },
   "file_extension": ".py",
   "mimetype": "text/x-python",
   "name": "python",
   "nbconvert_exporter": "python",
   "pygments_lexer": "ipython3",
   "version": "3.9.12"
  }
 },
 "nbformat": 4,
 "nbformat_minor": 5
}
