{
 "cells": [
  {
   "cell_type": "code",
   "execution_count": 9,
   "id": "7a1fbb78",
   "metadata": {},
   "outputs": [],
   "source": [
    "import numpy as np\n",
    "import pandas as pd\n",
    "import os"
   ]
  },
  {
   "cell_type": "markdown",
   "id": "a5faec02",
   "metadata": {},
   "source": [
    "# Brainstorm Ideas:\n",
    "\n",
    "784 inputs, 2 hidden layers, 0-9 as output"
   ]
  },
  {
   "cell_type": "code",
   "execution_count": 10,
   "id": "5de549dc",
   "metadata": {},
   "outputs": [],
   "source": [
    "def sigmoid(x):\n",
    "  # Our activation function: f(x) = 1 / (1 + e^(-x))\n",
    "  return 1 / (1 + np.exp(-x))"
   ]
  },
  {
   "cell_type": "code",
   "execution_count": 19,
   "id": "17bbaeba",
   "metadata": {},
   "outputs": [],
   "source": [
    "dataframe = pd.read_csv('./digit-recognizer/train.csv')\n",
    "PIXEL_COUNT = len(dataframe.columns) - 1\n",
    "SAMPLE_SIZE = len(dataframe)"
   ]
  },
  {
   "cell_type": "code",
   "execution_count": 11,
   "id": "7d91d4ea",
   "metadata": {},
   "outputs": [],
   "source": [
    "def deriv_sigmoid(x):\n",
    "    # Derivative of sigmoid: f'(x) = f(x) * (1 - f(x))\n",
    "    fx = sigmoid(x)\n",
    "    return fx * (1 - fx)"
   ]
  },
  {
   "cell_type": "code",
   "execution_count": 12,
   "id": "d15e778e",
   "metadata": {},
   "outputs": [],
   "source": [
    "class Neuron:\n",
    "    def __init__(self, weights, bias, value=0):\n",
    "        self.weights = weights # weights type: numpy array\n",
    "        self.bias = bias # bias type: integer\n",
    "        self.value = value\n",
    "    \n",
    "    def weighted_output(self, inputs):\n",
    "        # feed forward algorithm\n",
    "        # inputs: original image input / weights\n",
    "        output_node = np.dot(inputs, self.weights) + self.bias\n",
    "        return sigmoid(output_node)  "
   ]
  },
  {
   "cell_type": "code",
   "execution_count": null,
   "id": "31cfc55f",
   "metadata": {},
   "outputs": [],
   "source": [
    "class NeuralNetwork:\n",
    "    def __init__(self, hidden_layers, input_layer):\n",
    "        # hidden_layer: list of number of nodes in the hidden layer\n",
    "        \n",
    "        self.network = [[]]\n",
    "        # initialize input layer (zeroth layer)\n",
    "        for i in range(PIXEL_COUNT):\n",
    "            weights = np.random.uniform(low=0.0, high=1.0, size=PIXEL_COUNT)\n",
    "            bias = np.random.normal()\n",
    "            neuron = Neuron(weights, bias, input_layer)\n",
    "            network[0].append(neuron)\n",
    "        \n",
    "        # initialize hidden layers\n",
    "        for layer in hidden_layers:\n",
    "            # append a list that contains all neurons in this hidden layer\n",
    "            network.append([])\n",
    "            for n in range(layer):\n",
    "                weights = np.random.uniform(low=0.0, high=1.0, size=PIXEL_COUNT)\n",
    "                bias = np.random.normal()\n",
    "                neuron = Neuron(weights, bias)\n",
    "                network[-1].append(neuron)\n",
    "                \n",
    "        # initialize output layer\n",
    "        network.append([])\n",
    "        for i in range(10):\n",
    "            weights = np.random.uniform(low=0.0, high=1.0, size=PIXEL_COUNT)\n",
    "            bias = np.random.normal()\n",
    "            neuron = Neuron(weights, bias)\n",
    "            network[-1].append(neuron)"
   ]
  },
  {
   "cell_type": "code",
   "execution_count": null,
   "id": "e9524de7",
   "metadata": {},
   "outputs": [],
   "source": []
  }
 ],
 "metadata": {
  "kernelspec": {
   "display_name": "Python 3 (ipykernel)",
   "language": "python",
   "name": "python3"
  },
  "language_info": {
   "codemirror_mode": {
    "name": "ipython",
    "version": 3
   },
   "file_extension": ".py",
   "mimetype": "text/x-python",
   "name": "python",
   "nbconvert_exporter": "python",
   "pygments_lexer": "ipython3",
   "version": "3.9.12"
  }
 },
 "nbformat": 4,
 "nbformat_minor": 5
}
